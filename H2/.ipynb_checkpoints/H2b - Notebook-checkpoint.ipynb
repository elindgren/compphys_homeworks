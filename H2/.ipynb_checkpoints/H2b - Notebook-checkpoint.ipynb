{
 "cells": [
  {
   "cell_type": "markdown",
   "metadata": {},
   "source": [
    "# H2b - Variational method with Metropolis"
   ]
  },
  {
   "cell_type": "markdown",
   "metadata": {},
   "source": [
    "## Task 1"
   ]
  },
  {
   "cell_type": "markdown",
   "metadata": {},
   "source": [
    "The energy is given as\n",
    "\n",
    "$$ E_L = -4 + \\frac{(\\hat{r_1}-\\hat{r_2}) \\cdot (r_1 - r_2) }{r_{12}(1+\\alpha r_{12})^2} - \\frac{1}{r_{12}(1 + \\alpha r_{12})^3} - \\frac{1}{4(1+\\alpha r_{12})^4} + \\frac{1}{r_{12}},$$\n",
    "\n",
    "where\n",
    "\n",
    "$$ (\\hat{r_1}-\\hat{r_2}) \\cdot (r_1 - r_2) = \\hat{r_1} \\cdot r_1 + \\hat{r_2} \\cdot r_2 - \\hat{r_1}\\cdot r_2 - \\hat{r_2} \\cdot r_1 = \\rightarrow$$\n",
    "\n",
    "$$ = (x_1+y_1+z_1) + (x_2+y_2+z_2) - $$"
   ]
  },
  {
   "cell_type": "code",
   "execution_count": null,
   "metadata": {},
   "outputs": [],
   "source": []
  }
 ],
 "metadata": {
  "kernelspec": {
   "display_name": "Python 3",
   "language": "python",
   "name": "python3"
  },
  "language_info": {
   "codemirror_mode": {
    "name": "ipython",
    "version": 3
   },
   "file_extension": ".py",
   "mimetype": "text/x-python",
   "name": "python",
   "nbconvert_exporter": "python",
   "pygments_lexer": "ipython3",
   "version": "3.7.5"
  }
 },
 "nbformat": 4,
 "nbformat_minor": 2
}
